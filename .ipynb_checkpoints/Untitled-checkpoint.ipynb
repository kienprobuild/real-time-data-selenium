{
 "cells": [
  {
   "cell_type": "code",
   "execution_count": 3,
   "metadata": {
    "scrolled": true
   },
   "outputs": [
    {
     "name": "stderr",
     "output_type": "stream",
     "text": [
      "<ipython-input-3-344315b9e78f>:12: DeprecationWarning: executable_path has been deprecated, please pass in a Service object\n",
      "  browser = webdriver.Chrome(executable_path=\"./chromedriver\",chrome_options=options)\n",
      "<ipython-input-3-344315b9e78f>:12: DeprecationWarning: use options instead of chrome_options\n",
      "  browser = webdriver.Chrome(executable_path=\"./chromedriver\",chrome_options=options)\n",
      "<ipython-input-3-344315b9e78f>:18: DeprecationWarning: find_element_by_* commands are deprecated. Please use find_element() instead\n",
      "  element = browser.find_element_by_xpath(\"//*[@id='main']/div/div[2]/div[1]/div/div[2]/div/div[3]/div[2]/div[1]/div[1]\");\n"
     ]
    },
    {
     "name": "stdout",
     "output_type": "stream",
     "text": [
      "{'x': 0, 'y': 962}\n",
      "{'height': 685, 'width': 953}\n"
     ]
    },
    {
     "name": "stderr",
     "output_type": "stream",
     "text": [
      "<ipython-input-3-344315b9e78f>:34: DeprecationWarning: find_elements_by_* commands are deprecated. Please use find_elements() instead\n",
      "  a=browser.find_elements_by_class_name(\"shopee-product-rating__main\")\n"
     ]
    },
    {
     "name": "stdout",
     "output_type": "stream",
     "text": [
      "Came very quickly and in perfect condition. Very pleased with the keyboard. Great seller 👍\n",
      "Product received in good condition. Tried the keyboard for a few days and there’s no problem with it. Brown switches feels good to type with, great buy for the price.\n",
      "Arrived vry quickly. Packaged nicely. Love the mechanical keys\n",
      "SUPERB!!! bought during 12.12 and received on 13.12 morning. item in awesome quality and service!! good buy! must buy! highly recommended!!\n",
      "The delivery was fast but I have yet to open to see really excited\n",
      "Fast delivery. Fits perfectly with my setup. Got it for a good price as well. Waiting for their next sale!\n"
     ]
    },
    {
     "ename": "IndexError",
     "evalue": "list index out of range",
     "output_type": "error",
     "traceback": [
      "\u001b[1;31m---------------------------------------------------------------------------\u001b[0m",
      "\u001b[1;31mIndexError\u001b[0m                                Traceback (most recent call last)",
      "\u001b[1;32m<ipython-input-3-344315b9e78f>\u001b[0m in \u001b[0;36m<module>\u001b[1;34m\u001b[0m\n\u001b[0;32m     43\u001b[0m \u001b[1;33m\u001b[0m\u001b[0m\n\u001b[0;32m     44\u001b[0m \u001b[0msleep\u001b[0m\u001b[1;33m(\u001b[0m\u001b[1;36m5\u001b[0m\u001b[1;33m)\u001b[0m\u001b[1;33m\u001b[0m\u001b[1;33m\u001b[0m\u001b[0m\n\u001b[1;32m---> 45\u001b[1;33m \u001b[0mprint\u001b[0m\u001b[1;33m(\u001b[0m\u001b[0ml\u001b[0m\u001b[1;33m[\u001b[0m\u001b[1;36m0\u001b[0m\u001b[1;33m]\u001b[0m\u001b[1;33m)\u001b[0m\u001b[1;33m\u001b[0m\u001b[1;33m\u001b[0m\u001b[0m\n\u001b[0m\u001b[0;32m     46\u001b[0m \u001b[1;33m\u001b[0m\u001b[0m\n\u001b[0;32m     47\u001b[0m \u001b[0mbrowser\u001b[0m\u001b[1;33m.\u001b[0m\u001b[0mclose\u001b[0m\u001b[1;33m(\u001b[0m\u001b[1;33m)\u001b[0m\u001b[1;33m\u001b[0m\u001b[1;33m\u001b[0m\u001b[0m\n",
      "\u001b[1;31mIndexError\u001b[0m: list index out of range"
     ]
    }
   ],
   "source": [
    "from selenium import webdriver\n",
    "from time import sleep\n",
    "from selenium.webdriver.common.keys import Keys\n",
    "from selenium.webdriver.chrome.options import Options\n",
    "\n",
    "\n",
    "options = Options()\n",
    "\n",
    "options.add_experimental_option('excludeSwitches', ['enable-logging'])\n",
    "\n",
    "# 1. Khai báo browser\n",
    "browser = webdriver.Chrome(executable_path=\"./chromedriver\",chrome_options=options)\n",
    "# url = \"https://shopee.sg/-Pre-Order-MSI-Optix-MAG274QRF-QD-Gaming-Monitor-(27inch-WQHD-Rapid-IPS-Panel-165hz-1ms-G-Sync-3Y)-i.235042613.6761847522?sp_atk=4a4f3668-b0be-45ff-b89a-e861279f7c14\"\n",
    "url = \"https://shopee.sg/-Free-Wrist-Rest-Logitech-G512-Carbon-(Tactile-Linear-Gx-Blue)-RGB-Mechanical-Gaming-Keyboard-i.10402.1901587325?sp_atk=22d71a1e-1bec-45d7-9287-5eccc000feed\"\n",
    "# 2. Mở URL của post\n",
    "browser.get(url)\n",
    "sleep(3)\n",
    "element = browser.find_element_by_xpath(\"//*[@id='main']/div/div[2]/div[1]/div/div[2]/div/div[3]/div[2]/div[1]/div[1]\"); \n",
    "#get x, y coordinates\n",
    "loc = element.location\n",
    "#get height, width\n",
    "s = element.size\n",
    "print(loc)\n",
    "print(s)\n",
    "h = str(loc[\"y\"] + s[\"height\"])\n",
    "browser.execute_script(\"window.scrollTo(0,\" + h + \" )\") \n",
    "sleep(5)\n",
    "\n",
    "\n",
    "# sleep(5)\n",
    "\n",
    "# # 3. Lấy link hiện comment\n",
    "# #browser.find_elements_by_class_name(\"shopee-product-rating__main\")\n",
    "a=browser.find_elements_by_class_name(\"shopee-product-rating__main\")\n",
    "# print(a)\n",
    "# # # 3. Lấy link hiện comm\n",
    "# # comment_list = browser.find_element_by_class_name(\"_3NrdYc\")\n",
    "l=[]\n",
    "for i in a:\n",
    "    b=i.find_element_by_class_name(\"_3NrdYc\")\n",
    "    \n",
    "    print(b.text)\n",
    "\n",
    "sleep(5)\n",
    "\n",
    "browser.close()"
   ]
  },
  {
   "cell_type": "code",
   "execution_count": 3,
   "metadata": {},
   "outputs": [
    {
     "name": "stdout",
     "output_type": "stream",
     "text": [
      "Requirement already satisfied: selenium in c:\\users\\pc\\anaconda3\\lib\\site-packages (4.1.0)\n",
      "Requirement already satisfied: trio-websocket~=0.9 in c:\\users\\pc\\anaconda3\\lib\\site-packages (from selenium) (0.9.2)\n",
      "Requirement already satisfied: urllib3[secure]~=1.26 in c:\\users\\pc\\anaconda3\\lib\\site-packages (from selenium) (1.26.8)\n",
      "Requirement already satisfied: trio~=0.17 in c:\\users\\pc\\anaconda3\\lib\\site-packages (from selenium) (0.19.0)\n",
      "Requirement already satisfied: wsproto>=0.14 in c:\\users\\pc\\anaconda3\\lib\\site-packages (from trio-websocket~=0.9->selenium) (1.0.0)\n",
      "Requirement already satisfied: async-generator>=1.10 in c:\\users\\pc\\anaconda3\\lib\\site-packages (from trio-websocket~=0.9->selenium) (1.10)\n",
      "Requirement already satisfied: certifi; extra == \"secure\" in c:\\users\\pc\\anaconda3\\lib\\site-packages (from urllib3[secure]~=1.26->selenium) (2020.6.20)\n",
      "Requirement already satisfied: pyOpenSSL>=0.14; extra == \"secure\" in c:\\users\\pc\\anaconda3\\lib\\site-packages (from urllib3[secure]~=1.26->selenium) (19.1.0)\n",
      "Requirement already satisfied: idna>=2.0.0; extra == \"secure\" in c:\\users\\pc\\anaconda3\\lib\\site-packages (from urllib3[secure]~=1.26->selenium) (2.10)\n",
      "Requirement already satisfied: cryptography>=1.3.4; extra == \"secure\" in c:\\users\\pc\\anaconda3\\lib\\site-packages (from urllib3[secure]~=1.26->selenium) (2.9.2)\n",
      "Requirement already satisfied: attrs>=19.2.0 in c:\\users\\pc\\anaconda3\\lib\\site-packages (from trio~=0.17->selenium) (19.3.0)\n",
      "Requirement already satisfied: outcome in c:\\users\\pc\\anaconda3\\lib\\site-packages (from trio~=0.17->selenium) (1.1.0)\n",
      "Requirement already satisfied: cffi>=1.14; os_name == \"nt\" and implementation_name != \"pypy\" in c:\\users\\pc\\anaconda3\\lib\\site-packages (from trio~=0.17->selenium) (1.14.0)\n",
      "Requirement already satisfied: sniffio in c:\\users\\pc\\anaconda3\\lib\\site-packages (from trio~=0.17->selenium) (1.2.0)\n",
      "Requirement already satisfied: sortedcontainers in c:\\users\\pc\\anaconda3\\lib\\site-packages (from trio~=0.17->selenium) (2.2.2)\n",
      "Requirement already satisfied: h11<1,>=0.9.0 in c:\\users\\pc\\anaconda3\\lib\\site-packages (from wsproto>=0.14->trio-websocket~=0.9->selenium) (0.12.0)\n",
      "Requirement already satisfied: six>=1.5.2 in c:\\users\\pc\\anaconda3\\lib\\site-packages (from pyOpenSSL>=0.14; extra == \"secure\"->urllib3[secure]~=1.26->selenium) (1.15.0)\n",
      "Requirement already satisfied: pycparser in c:\\users\\pc\\anaconda3\\lib\\site-packages (from cffi>=1.14; os_name == \"nt\" and implementation_name != \"pypy\"->trio~=0.17->selenium) (2.20)\n",
      "Note: you may need to restart the kernel to use updated packages.\n"
     ]
    }
   ],
   "source": [
    "pip install selenium"
   ]
  },
  {
   "cell_type": "code",
   "execution_count": 1,
   "metadata": {},
   "outputs": [],
   "source": [
    "import pandas as pd\n",
    "data =pd.read_csv(\"./twitter.csv\")"
   ]
  },
  {
   "cell_type": "code",
   "execution_count": 2,
   "metadata": {},
   "outputs": [
    {
     "name": "stdout",
     "output_type": "stream",
     "text": [
      "                timestamp             user  \\\n",
      "0     2021-07-25 16:30:26       banditlink   \n",
      "1     2021-07-25 16:30:30      schmelonbun   \n",
      "2     2021-07-25 16:30:31         0luis200   \n",
      "3     2021-07-25 16:30:30       TrimbleSam   \n",
      "4     2021-07-25 16:30:25      John_weber_   \n",
      "...                   ...              ...   \n",
      "9993  2021-07-25 17:43:39   CrackleMeister   \n",
      "9994  2021-07-25 17:43:40         roseyj89   \n",
      "9995  2021-07-25 17:43:31  Vaishal53032668   \n",
      "9996  2021-07-25 17:43:45   _paparazzionme   \n",
      "9997  2021-07-25 17:43:33  Marcusr28997372   \n",
      "\n",
      "                                                   text user_sentiment  \n",
      "0      Gigachad Carlson vs the pregnant man apple em...       positive  \n",
      "1      wei ying with his beloved steed (and new shor...       positive  \n",
      "2                                                Fuck U        neutral  \n",
      "3      if you push voting without an ID then you are...       negative  \n",
      "4      if you push voting without an ID then you are...       negative  \n",
      "...                                                 ...            ...  \n",
      "9993   Are you gonna talk about The Apple Arcade Ang...       positive  \n",
      "9994  Pelosi appoints Kinzinger to 1/6 House select ...       negative  \n",
      "9995         Battery and apple together in every model😂       positive  \n",
      "9996  I need in my zone & in my zone 2 on Apple Musi...       positive  \n",
      "9997                                         Apple wack       negative  \n",
      "\n",
      "[9998 rows x 4 columns]\n"
     ]
    }
   ],
   "source": [
    "print(data)"
   ]
  },
  {
   "cell_type": "code",
   "execution_count": 3,
   "metadata": {},
   "outputs": [],
   "source": [
    "data[\"user_sentiment\"]=data[\"user_sentiment\"].map({\"positive\":0,\"neutral\":2,\"negative\":1})"
   ]
  },
  {
   "cell_type": "code",
   "execution_count": 4,
   "metadata": {},
   "outputs": [],
   "source": [
    "from sklearn.model_selection import train_test_split\n",
    "X_train, X_test, y_train, y_test = train_test_split(\n",
    " data[\"text\"], data[\"user_sentiment\"], test_size=0.2, random_state=42)"
   ]
  },
  {
   "cell_type": "code",
   "execution_count": 7,
   "metadata": {},
   "outputs": [],
   "source": [
    "from tensorflow.keras.preprocessing.text import Tokenizer\n",
    "from tensorflow.keras.preprocessing.sequence import pad_sequences\n",
    "tokenizer=Tokenizer(num_words=10000,oov_token=\"<OOV>\")\n",
    "tokenizer.fit_on_texts(X_train)"
   ]
  },
  {
   "cell_type": "code",
   "execution_count": 7,
   "metadata": {},
   "outputs": [],
   "source": [
    "train=tokenizer.texts_to_sequences(X_train)\n",
    "train_pad=pad_sequences(train,maxlen=140,truncating='post',padding='post')\n",
    "test=tokenizer.texts_to_sequences(X_test)\n",
    "test_pad=pad_sequences(test,maxlen=140,truncating='post',padding='post')"
   ]
  },
  {
   "cell_type": "code",
   "execution_count": 8,
   "metadata": {},
   "outputs": [],
   "source": [
    "from tensorflow.keras.models import Sequential\n",
    "from tensorflow.keras.layers import  Embedding\n",
    "from tensorflow.keras.layers import  Flatten\n",
    "from tensorflow.keras.layers import Dense"
   ]
  },
  {
   "cell_type": "code",
   "execution_count": 9,
   "metadata": {},
   "outputs": [],
   "source": [
    "model=Sequential()"
   ]
  },
  {
   "cell_type": "code",
   "execution_count": 18,
   "metadata": {},
   "outputs": [],
   "source": [
    "model.add(Embedding(10000,64,input_length=140))"
   ]
  },
  {
   "cell_type": "code",
   "execution_count": 19,
   "metadata": {},
   "outputs": [],
   "source": [
    "model.add(Flatten())"
   ]
  },
  {
   "cell_type": "code",
   "execution_count": 24,
   "metadata": {},
   "outputs": [],
   "source": [
    "model.add(Dense(10,activation='relu'))"
   ]
  },
  {
   "cell_type": "code",
   "execution_count": 25,
   "metadata": {},
   "outputs": [],
   "source": [
    "model.add(Dense(3,activation='softmax'))"
   ]
  },
  {
   "cell_type": "code",
   "execution_count": 26,
   "metadata": {},
   "outputs": [],
   "source": [
    "model.compile(loss='categorical_crossentropy',optimizer='adam',metrics=['acc'])"
   ]
  },
  {
   "cell_type": "code",
   "execution_count": 27,
   "metadata": {},
   "outputs": [
    {
     "name": "stdout",
     "output_type": "stream",
     "text": [
      "Model: \"sequential_1\"\n",
      "_________________________________________________________________\n",
      "Layer (type)                 Output Shape              Param #   \n",
      "=================================================================\n",
      "embedding_1 (Embedding)      (None, 140, 64)           640000    \n",
      "_________________________________________________________________\n",
      "flatten_1 (Flatten)          (None, 8960)              0         \n",
      "_________________________________________________________________\n",
      "dense_2 (Dense)              (None, 10)                89610     \n",
      "_________________________________________________________________\n",
      "dense_3 (Dense)              (None, 3)                 33        \n",
      "_________________________________________________________________\n",
      "dense_4 (Dense)              (None, 10)                40        \n",
      "_________________________________________________________________\n",
      "dense_5 (Dense)              (None, 3)                 33        \n",
      "=================================================================\n",
      "Total params: 729,716\n",
      "Trainable params: 729,716\n",
      "Non-trainable params: 0\n",
      "_________________________________________________________________\n"
     ]
    }
   ],
   "source": [
    "model.summary()"
   ]
  },
  {
   "cell_type": "code",
   "execution_count": 33,
   "metadata": {},
   "outputs": [],
   "source": [
    "from tensorflow.keras.utils import to_categorical\n",
    "y_train = to_categorical(y_train, 3)\n",
    "y_test = to_categorical(y_test, 3)"
   ]
  },
  {
   "cell_type": "code",
   "execution_count": 8,
   "metadata": {},
   "outputs": [],
   "source": [
    "import tensorflow as tf\n",
    "new_model = tf.keras.models.load_model('./kien.h5')"
   ]
  },
  {
   "cell_type": "code",
   "execution_count": 40,
   "metadata": {},
   "outputs": [
    {
     "name": "stdout",
     "output_type": "stream",
     "text": [
      "Model: \"sequential\"\n",
      "_________________________________________________________________\n",
      "Layer (type)                 Output Shape              Param #   \n",
      "=================================================================\n",
      "embedding (Embedding)        (None, 140, 64)           640000    \n",
      "_________________________________________________________________\n",
      "flatten (Flatten)            (None, 8960)              0         \n",
      "_________________________________________________________________\n",
      "dense (Dense)                (None, 10)                89610     \n",
      "_________________________________________________________________\n",
      "dense_1 (Dense)              (None, 3)                 33        \n",
      "=================================================================\n",
      "Total params: 729,643\n",
      "Trainable params: 729,643\n",
      "Non-trainable params: 0\n",
      "_________________________________________________________________\n"
     ]
    }
   ],
   "source": [
    "new_model.summary()"
   ]
  },
  {
   "cell_type": "code",
   "execution_count": 29,
   "metadata": {},
   "outputs": [
    {
     "data": {
      "text/plain": [
       "8964    0\n",
       "1561    0\n",
       "1670    0\n",
       "4345    2\n",
       "8099    1\n",
       "       ..\n",
       "5734    0\n",
       "5191    0\n",
       "5390    0\n",
       "860     0\n",
       "7270    1\n",
       "Name: user_sentiment, Length: 7998, dtype: int64"
      ]
     },
     "execution_count": 29,
     "metadata": {},
     "output_type": "execute_result"
    }
   ],
   "source": [
    "y_train"
   ]
  },
  {
   "cell_type": "code",
   "execution_count": 37,
   "metadata": {},
   "outputs": [
    {
     "name": "stderr",
     "output_type": "stream",
     "text": [
      "<ipython-input-37-0157d8ee64a6>:12: DeprecationWarning: executable_path has been deprecated, please pass in a Service object\n",
      "  browser = webdriver.Chrome(executable_path=\"./chromedriver\",chrome_options=options)\n",
      "<ipython-input-37-0157d8ee64a6>:12: DeprecationWarning: use options instead of chrome_options\n",
      "  browser = webdriver.Chrome(executable_path=\"./chromedriver\",chrome_options=options)\n",
      "<ipython-input-37-0157d8ee64a6>:18: DeprecationWarning: find_element_by_* commands are deprecated. Please use find_element() instead\n",
      "  element = browser.find_element_by_xpath(\"//*[@id='main']/div/div[2]/div[1]/div/div[2]/div/div[3]/div[2]/div[1]/div[1]\");\n"
     ]
    },
    {
     "name": "stdout",
     "output_type": "stream",
     "text": [
      "{'x': 0, 'y': 962}\n",
      "{'height': 685, 'width': 953}\n"
     ]
    },
    {
     "name": "stderr",
     "output_type": "stream",
     "text": [
      "<ipython-input-37-0157d8ee64a6>:34: DeprecationWarning: find_elements_by_* commands are deprecated. Please use find_elements() instead\n",
      "  a=browser.find_elements_by_class_name(\"shopee-product-rating__main\")\n",
      "C:\\Users\\PC\\anaconda3\\lib\\site-packages\\selenium\\webdriver\\remote\\webelement.py:446: UserWarning: find_element_by_* commands are deprecated. Please use find_element() instead\n",
      "  warnings.warn(\"find_element_by_* commands are deprecated. Please use find_element() instead\")\n"
     ]
    }
   ],
   "source": [
    "from selenium import webdriver\n",
    "from time import sleep\n",
    "from selenium.webdriver.common.keys import Keys\n",
    "from selenium.webdriver.chrome.options import Options\n",
    "\n",
    "\n",
    "options = Options()\n",
    "\n",
    "options.add_experimental_option('excludeSwitches', ['enable-logging'])\n",
    "\n",
    "# 1. Khai báo browser\n",
    "browser = webdriver.Chrome(executable_path=\"./chromedriver\",chrome_options=options)\n",
    "# url = \"https://shopee.sg/-Pre-Order-MSI-Optix-MAG274QRF-QD-Gaming-Monitor-(27inch-WQHD-Rapid-IPS-Panel-165hz-1ms-G-Sync-3Y)-i.235042613.6761847522?sp_atk=4a4f3668-b0be-45ff-b89a-e861279f7c14\"\n",
    "url = \"https://shopee.sg/-Free-Wrist-Rest-Logitech-G512-Carbon-(Tactile-Linear-Gx-Blue)-RGB-Mechanical-Gaming-Keyboard-i.10402.1901587325?sp_atk=22d71a1e-1bec-45d7-9287-5eccc000feed\"\n",
    "# 2. Mở URL của post\n",
    "browser.get(url)\n",
    "sleep(3)\n",
    "element = browser.find_element_by_xpath(\"//*[@id='main']/div/div[2]/div[1]/div/div[2]/div/div[3]/div[2]/div[1]/div[1]\"); \n",
    "#get x, y coordinates\n",
    "loc = element.location\n",
    "#get height, width\n",
    "s = element.size\n",
    "print(loc)\n",
    "print(s)\n",
    "h = str(loc[\"y\"] + s[\"height\"])\n",
    "browser.execute_script(\"window.scrollTo(0,\" + h + \" )\") \n",
    "sleep(5)\n",
    "\n",
    "\n",
    "# sleep(5)\n",
    "\n",
    "# # 3. Lấy link hiện comment\n",
    "# #browser.find_elements_by_class_name(\"shopee-product-rating__main\")\n",
    "a=browser.find_elements_by_class_name(\"shopee-product-rating__main\")\n",
    "# print(a)\n",
    "# # # 3. Lấy link hiện comm\n",
    "# # comment_list = browser.find_element_by_class_name(\"_3NrdYc\")\n",
    "l=[]\n",
    "for i in a:\n",
    "    b=i.find_element_by_class_name(\"_3NrdYc\")\n",
    "    \n",
    "    l.append(b.text)\n",
    "\n",
    "sleep(5)\n",
    "\n",
    "browser.close()"
   ]
  },
  {
   "cell_type": "code",
   "execution_count": 38,
   "metadata": {},
   "outputs": [],
   "source": [
    "\n",
    "demo=tokenizer.texts_to_sequences(l)\n",
    "demo_pad=pad_sequences(demo,maxlen=140,truncating='post',padding='post')"
   ]
  },
  {
   "cell_type": "code",
   "execution_count": 34,
   "metadata": {},
   "outputs": [],
   "source": [
    "l=[1,2,3,4]"
   ]
  },
  {
   "cell_type": "code",
   "execution_count": 35,
   "metadata": {},
   "outputs": [
    {
     "ename": "AttributeError",
     "evalue": "'list' object has no attribute 'map'",
     "output_type": "error",
     "traceback": [
      "\u001b[1;31m---------------------------------------------------------------------------\u001b[0m",
      "\u001b[1;31mAttributeError\u001b[0m                            Traceback (most recent call last)",
      "\u001b[1;32m<ipython-input-35-23ad75e1a82e>\u001b[0m in \u001b[0;36m<module>\u001b[1;34m\u001b[0m\n\u001b[1;32m----> 1\u001b[1;33m \u001b[0ml\u001b[0m\u001b[1;33m.\u001b[0m\u001b[0mmap\u001b[0m\u001b[1;33m(\u001b[0m\u001b[1;33m{\u001b[0m\u001b[1;36m0\u001b[0m\u001b[1;33m:\u001b[0m\u001b[1;34m\"positive\"\u001b[0m\u001b[1;33m,\u001b[0m\u001b[1;36m2\u001b[0m\u001b[1;33m:\u001b[0m\u001b[1;34m\"neutral\"\u001b[0m\u001b[1;33m,\u001b[0m\u001b[1;36m1\u001b[0m\u001b[1;33m:\u001b[0m\u001b[1;34m\"negative\"\u001b[0m\u001b[1;33m}\u001b[0m\u001b[1;33m)\u001b[0m\u001b[1;33m\u001b[0m\u001b[1;33m\u001b[0m\u001b[0m\n\u001b[0m",
      "\u001b[1;31mAttributeError\u001b[0m: 'list' object has no attribute 'map'"
     ]
    }
   ],
   "source": [
    "l.map({0:\"positive\",2:\"neutral\",1:\"negative\"})"
   ]
  },
  {
   "cell_type": "code",
   "execution_count": 55,
   "metadata": {},
   "outputs": [],
   "source": [
    "classe=new_model.predict(demo_pad)"
   ]
  },
  {
   "cell_type": "code",
   "execution_count": 41,
   "metadata": {},
   "outputs": [],
   "source": [
    "for i in range(len(classe)):\n",
    "    classe[i]=np.argmax(classe[i])"
   ]
  },
  {
   "cell_type": "code",
   "execution_count": 60,
   "metadata": {},
   "outputs": [],
   "source": [
    "s=[]\n",
    "for i in range(len(l)):\n",
    "    s.append(np.argmax(classe[i]))"
   ]
  },
  {
   "cell_type": "code",
   "execution_count": 64,
   "metadata": {},
   "outputs": [],
   "source": [
    "for i in range(len(s)):\n",
    "    if s[i]==0:\n",
    "        s[i]=\"positive\"\n",
    "    if s[i]==1:\n",
    "        s[i]=\"negative\"\n",
    "    if s[i]==2:\n",
    "        s[i]=\"neutral\""
   ]
  },
  {
   "cell_type": "code",
   "execution_count": null,
   "metadata": {},
   "outputs": [],
   "source": []
  },
  {
   "cell_type": "code",
   "execution_count": 49,
   "metadata": {},
   "outputs": [
    {
     "ename": "SyntaxError",
     "evalue": "invalid syntax (<ipython-input-49-e358baed8c6f>, line 2)",
     "output_type": "error",
     "traceback": [
      "\u001b[1;36m  File \u001b[1;32m\"<ipython-input-49-e358baed8c6f>\"\u001b[1;36m, line \u001b[1;32m2\u001b[0m\n\u001b[1;33m    if classe[i]==[0. 0. 0.]:\u001b[0m\n\u001b[1;37m                      ^\u001b[0m\n\u001b[1;31mSyntaxError\u001b[0m\u001b[1;31m:\u001b[0m invalid syntax\n"
     ]
    }
   ],
   "source": [
    "for i in range(len(classe)):\n",
    "    if classe[i]==[0. 0. 0.]:\n",
    "        print(1)"
   ]
  },
  {
   "cell_type": "code",
   "execution_count": 24,
   "metadata": {},
   "outputs": [
    {
     "data": {
      "text/plain": [
       "0"
      ]
     },
     "execution_count": 24,
     "metadata": {},
     "output_type": "execute_result"
    }
   ],
   "source": [
    "import numpy as np\n",
    "np.argmax(classe)"
   ]
  },
  {
   "cell_type": "code",
   "execution_count": 18,
   "metadata": {},
   "outputs": [],
   "source": [
    "a= \"ngo le hieu kien\"\n",
    "a=str(a)"
   ]
  },
  {
   "cell_type": "code",
   "execution_count": 19,
   "metadata": {},
   "outputs": [
    {
     "name": "stdout",
     "output_type": "stream",
     "text": [
      "ngo le hieu kien\n"
     ]
    }
   ],
   "source": [
    "print(a)"
   ]
  },
  {
   "cell_type": "code",
   "execution_count": null,
   "metadata": {},
   "outputs": [],
   "source": []
  }
 ],
 "metadata": {
  "kernelspec": {
   "display_name": "Python 3",
   "language": "python",
   "name": "python3"
  },
  "language_info": {
   "codemirror_mode": {
    "name": "ipython",
    "version": 3
   },
   "file_extension": ".py",
   "mimetype": "text/x-python",
   "name": "python",
   "nbconvert_exporter": "python",
   "pygments_lexer": "ipython3",
   "version": "3.8.3"
  }
 },
 "nbformat": 4,
 "nbformat_minor": 4
}
